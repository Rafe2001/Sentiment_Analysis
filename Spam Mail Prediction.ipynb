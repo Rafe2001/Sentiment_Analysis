{
 "cells": [
  {
   "cell_type": "code",
   "execution_count": 20,
   "id": "8321b338",
   "metadata": {},
   "outputs": [],
   "source": [
    "import numpy as np\n",
    "import pandas as pd\n",
    "import matplotlib.pyplot as plt\n",
    "import seaborn as sns\n",
    "from sklearn.tree import DecisionTreeClassifier\n",
    "from sklearn.linear_model import LogisticRegression\n",
    "from sklearn.ensemble import RandomForestClassifier\n",
    "from sklearn.naive_bayes import GaussianNB, MultinomialNB,BernoulliNB\n",
    "from sklearn.metrics import accuracy_score,classification_report,confusion_matrix, precision_score\n",
    "from sklearn.model_selection import train_test_split"
   ]
  },
  {
   "cell_type": "code",
   "execution_count": 21,
   "id": "ae75c1be",
   "metadata": {},
   "outputs": [
    {
     "data": {
      "text/html": [
       "<div>\n",
       "<style scoped>\n",
       "    .dataframe tbody tr th:only-of-type {\n",
       "        vertical-align: middle;\n",
       "    }\n",
       "\n",
       "    .dataframe tbody tr th {\n",
       "        vertical-align: top;\n",
       "    }\n",
       "\n",
       "    .dataframe thead th {\n",
       "        text-align: right;\n",
       "    }\n",
       "</style>\n",
       "<table border=\"1\" class=\"dataframe\">\n",
       "  <thead>\n",
       "    <tr style=\"text-align: right;\">\n",
       "      <th></th>\n",
       "      <th>Category</th>\n",
       "      <th>Message</th>\n",
       "    </tr>\n",
       "  </thead>\n",
       "  <tbody>\n",
       "    <tr>\n",
       "      <th>0</th>\n",
       "      <td>ham</td>\n",
       "      <td>Go until jurong point, crazy.. Available only ...</td>\n",
       "    </tr>\n",
       "    <tr>\n",
       "      <th>1</th>\n",
       "      <td>ham</td>\n",
       "      <td>Ok lar... Joking wif u oni...</td>\n",
       "    </tr>\n",
       "    <tr>\n",
       "      <th>2</th>\n",
       "      <td>spam</td>\n",
       "      <td>Free entry in 2 a wkly comp to win FA Cup fina...</td>\n",
       "    </tr>\n",
       "    <tr>\n",
       "      <th>3</th>\n",
       "      <td>ham</td>\n",
       "      <td>U dun say so early hor... U c already then say...</td>\n",
       "    </tr>\n",
       "    <tr>\n",
       "      <th>4</th>\n",
       "      <td>ham</td>\n",
       "      <td>Nah I don't think he goes to usf, he lives aro...</td>\n",
       "    </tr>\n",
       "    <tr>\n",
       "      <th>...</th>\n",
       "      <td>...</td>\n",
       "      <td>...</td>\n",
       "    </tr>\n",
       "    <tr>\n",
       "      <th>5567</th>\n",
       "      <td>spam</td>\n",
       "      <td>This is the 2nd time we have tried 2 contact u...</td>\n",
       "    </tr>\n",
       "    <tr>\n",
       "      <th>5568</th>\n",
       "      <td>ham</td>\n",
       "      <td>Will ü b going to esplanade fr home?</td>\n",
       "    </tr>\n",
       "    <tr>\n",
       "      <th>5569</th>\n",
       "      <td>ham</td>\n",
       "      <td>Pity, * was in mood for that. So...any other s...</td>\n",
       "    </tr>\n",
       "    <tr>\n",
       "      <th>5570</th>\n",
       "      <td>ham</td>\n",
       "      <td>The guy did some bitching but I acted like i'd...</td>\n",
       "    </tr>\n",
       "    <tr>\n",
       "      <th>5571</th>\n",
       "      <td>ham</td>\n",
       "      <td>Rofl. Its true to its name</td>\n",
       "    </tr>\n",
       "  </tbody>\n",
       "</table>\n",
       "<p>5572 rows × 2 columns</p>\n",
       "</div>"
      ],
      "text/plain": [
       "     Category                                            Message\n",
       "0         ham  Go until jurong point, crazy.. Available only ...\n",
       "1         ham                      Ok lar... Joking wif u oni...\n",
       "2        spam  Free entry in 2 a wkly comp to win FA Cup fina...\n",
       "3         ham  U dun say so early hor... U c already then say...\n",
       "4         ham  Nah I don't think he goes to usf, he lives aro...\n",
       "...       ...                                                ...\n",
       "5567     spam  This is the 2nd time we have tried 2 contact u...\n",
       "5568      ham               Will ü b going to esplanade fr home?\n",
       "5569      ham  Pity, * was in mood for that. So...any other s...\n",
       "5570      ham  The guy did some bitching but I acted like i'd...\n",
       "5571      ham                         Rofl. Its true to its name\n",
       "\n",
       "[5572 rows x 2 columns]"
      ]
     },
     "execution_count": 21,
     "metadata": {},
     "output_type": "execute_result"
    }
   ],
   "source": [
    "df = pd.read_csv(\"spam.csv\")\n",
    "df"
   ]
  },
  {
   "cell_type": "code",
   "execution_count": 22,
   "id": "b395c05b",
   "metadata": {},
   "outputs": [],
   "source": [
    "data = df.where((pd.notnull(df)),'')"
   ]
  },
  {
   "cell_type": "code",
   "execution_count": 23,
   "id": "cf3e09bf",
   "metadata": {},
   "outputs": [
    {
     "data": {
      "text/html": [
       "<div>\n",
       "<style scoped>\n",
       "    .dataframe tbody tr th:only-of-type {\n",
       "        vertical-align: middle;\n",
       "    }\n",
       "\n",
       "    .dataframe tbody tr th {\n",
       "        vertical-align: top;\n",
       "    }\n",
       "\n",
       "    .dataframe thead th {\n",
       "        text-align: right;\n",
       "    }\n",
       "</style>\n",
       "<table border=\"1\" class=\"dataframe\">\n",
       "  <thead>\n",
       "    <tr style=\"text-align: right;\">\n",
       "      <th></th>\n",
       "      <th>Category</th>\n",
       "      <th>Message</th>\n",
       "    </tr>\n",
       "  </thead>\n",
       "  <tbody>\n",
       "    <tr>\n",
       "      <th>0</th>\n",
       "      <td>ham</td>\n",
       "      <td>Go until jurong point, crazy.. Available only ...</td>\n",
       "    </tr>\n",
       "    <tr>\n",
       "      <th>1</th>\n",
       "      <td>ham</td>\n",
       "      <td>Ok lar... Joking wif u oni...</td>\n",
       "    </tr>\n",
       "    <tr>\n",
       "      <th>2</th>\n",
       "      <td>spam</td>\n",
       "      <td>Free entry in 2 a wkly comp to win FA Cup fina...</td>\n",
       "    </tr>\n",
       "    <tr>\n",
       "      <th>3</th>\n",
       "      <td>ham</td>\n",
       "      <td>U dun say so early hor... U c already then say...</td>\n",
       "    </tr>\n",
       "    <tr>\n",
       "      <th>4</th>\n",
       "      <td>ham</td>\n",
       "      <td>Nah I don't think he goes to usf, he lives aro...</td>\n",
       "    </tr>\n",
       "  </tbody>\n",
       "</table>\n",
       "</div>"
      ],
      "text/plain": [
       "  Category                                            Message\n",
       "0      ham  Go until jurong point, crazy.. Available only ...\n",
       "1      ham                      Ok lar... Joking wif u oni...\n",
       "2     spam  Free entry in 2 a wkly comp to win FA Cup fina...\n",
       "3      ham  U dun say so early hor... U c already then say...\n",
       "4      ham  Nah I don't think he goes to usf, he lives aro..."
      ]
     },
     "execution_count": 23,
     "metadata": {},
     "output_type": "execute_result"
    }
   ],
   "source": [
    "data.head()"
   ]
  },
  {
   "cell_type": "code",
   "execution_count": 24,
   "id": "36018924",
   "metadata": {},
   "outputs": [
    {
     "data": {
      "text/plain": [
       "(5572, 2)"
      ]
     },
     "execution_count": 24,
     "metadata": {},
     "output_type": "execute_result"
    }
   ],
   "source": [
    "data.shape"
   ]
  },
  {
   "cell_type": "markdown",
   "id": "6630b09f",
   "metadata": {},
   "source": [
    "Label Encoding"
   ]
  },
  {
   "cell_type": "code",
   "execution_count": 25,
   "id": "dca89bc0",
   "metadata": {},
   "outputs": [],
   "source": [
    "data.loc[data['Category']=='spam','Category',] = 0\n",
    "data.loc[data['Category']=='ham','Category',] = 1"
   ]
  },
  {
   "cell_type": "markdown",
   "id": "b8e360aa",
   "metadata": {},
   "source": [
    "spam = 0\n",
    "ham = 1"
   ]
  },
  {
   "cell_type": "code",
   "execution_count": 26,
   "id": "64d53b6a",
   "metadata": {},
   "outputs": [],
   "source": [
    "x = data['Message']\n",
    "y=data['Category']"
   ]
  },
  {
   "cell_type": "code",
   "execution_count": 27,
   "id": "876035ac",
   "metadata": {},
   "outputs": [
    {
     "name": "stdout",
     "output_type": "stream",
     "text": [
      "0       Go until jurong point, crazy.. Available only ...\n",
      "1                           Ok lar... Joking wif u oni...\n",
      "2       Free entry in 2 a wkly comp to win FA Cup fina...\n",
      "3       U dun say so early hor... U c already then say...\n",
      "4       Nah I don't think he goes to usf, he lives aro...\n",
      "                              ...                        \n",
      "5567    This is the 2nd time we have tried 2 contact u...\n",
      "5568                 Will ü b going to esplanade fr home?\n",
      "5569    Pity, * was in mood for that. So...any other s...\n",
      "5570    The guy did some bitching but I acted like i'd...\n",
      "5571                           Rofl. Its true to its name\n",
      "Name: Message, Length: 5572, dtype: object\n"
     ]
    }
   ],
   "source": [
    "print(x)"
   ]
  },
  {
   "cell_type": "code",
   "execution_count": 28,
   "id": "4ad88e10",
   "metadata": {},
   "outputs": [
    {
     "name": "stdout",
     "output_type": "stream",
     "text": [
      "0       1\n",
      "1       1\n",
      "2       0\n",
      "3       1\n",
      "4       1\n",
      "       ..\n",
      "5567    0\n",
      "5568    1\n",
      "5569    1\n",
      "5570    1\n",
      "5571    1\n",
      "Name: Category, Length: 5572, dtype: object\n"
     ]
    }
   ],
   "source": [
    "print(y)"
   ]
  },
  {
   "cell_type": "code",
   "execution_count": 29,
   "id": "26e0dccf",
   "metadata": {},
   "outputs": [],
   "source": [
    "x_train,x_test,y_train,y_test = train_test_split(x,y,test_size=0.2,random_state=32)"
   ]
  },
  {
   "cell_type": "code",
   "execution_count": 30,
   "id": "ac9311a0",
   "metadata": {},
   "outputs": [],
   "source": [
    "from sklearn.feature_extraction.text import TfidfVectorizer\n",
    "feature_extraction = TfidfVectorizer(min_df = 1,stop_words='english',lowercase='True')\n",
    "\n",
    "x_train_feature = feature_extraction.fit_transform(x_train)\n",
    "x_test_feature = feature_extraction.transform(x_test)\n",
    "\n",
    "y_train = y_train.astype('int')\n",
    "y_test = y_test.astype('int')"
   ]
  },
  {
   "cell_type": "code",
   "execution_count": 31,
   "id": "611fd7cb",
   "metadata": {},
   "outputs": [
    {
     "name": "stdout",
     "output_type": "stream",
     "text": [
      "  (0, 6863)\t0.20621599154121303\n",
      "  (0, 2498)\t0.17697692421919778\n",
      "  (0, 6281)\t0.1415552904299539\n",
      "  (0, 6253)\t0.2596293410969599\n",
      "  (0, 1641)\t0.23896623687751933\n",
      "  (0, 6133)\t0.2596293410969599\n",
      "  (0, 7260)\t0.15678328730835214\n",
      "  (0, 1664)\t0.17516967041511364\n",
      "  (0, 3733)\t0.23896623687751933\n",
      "  (0, 4074)\t0.49508439996018816\n",
      "  (0, 5523)\t0.2797974443195758\n",
      "  (0, 6290)\t0.21165109888225533\n",
      "  (0, 3807)\t0.2222837779809648\n",
      "  (0, 5571)\t0.2222837779809648\n",
      "  (0, 5597)\t0.2596293410969599\n",
      "  (0, 4066)\t0.2596293410969599\n",
      "  (1, 4065)\t0.4282637496593523\n",
      "  (1, 2098)\t0.5538718430266786\n",
      "  (1, 3971)\t0.38547940650657453\n",
      "  (1, 1027)\t0.6010172787776413\n",
      "  (2, 3011)\t0.22722722925542438\n",
      "  (2, 2756)\t0.29523636124084535\n",
      "  (2, 1518)\t0.34483857811427326\n",
      "  (2, 3784)\t0.32878448908644653\n",
      "  (2, 2385)\t0.3013398426210153\n",
      "  :\t:\n",
      "  (4455, 4003)\t0.07593664776720896\n",
      "  (4455, 1705)\t0.07593664776720896\n",
      "  (4455, 1853)\t0.07593664776720896\n",
      "  (4455, 2380)\t0.07240138871818949\n",
      "  (4455, 1769)\t0.061903923791734844\n",
      "  (4455, 3567)\t0.06794748905388602\n",
      "  (4455, 2239)\t0.061903923791734844\n",
      "  (4455, 7139)\t0.061903923791734844\n",
      "  (4455, 6812)\t0.05292664981958133\n",
      "  (4455, 3022)\t0.05357279883196697\n",
      "  (4455, 4090)\t0.0638495172429066\n",
      "  (4455, 4179)\t0.08776580535891933\n",
      "  (4455, 2891)\t0.048410692799828986\n",
      "  (4455, 4580)\t0.03947326210325336\n",
      "  (4455, 3025)\t0.05836866474271538\n",
      "  (4455, 3142)\t0.6456905709783107\n",
      "  (4455, 4108)\t0.643330490573307\n",
      "  (4455, 3066)\t0.07292763531714877\n",
      "  (4455, 3218)\t0.09063881424159762\n",
      "  (4456, 6542)\t0.4406967968725556\n",
      "  (4456, 6647)\t0.3773061570739723\n",
      "  (4456, 3827)\t0.3645894797774876\n",
      "  (4456, 4710)\t0.34598236121783377\n",
      "  (4456, 3148)\t0.5497421855199175\n",
      "  (4456, 2404)\t0.32951577121867537\n"
     ]
    }
   ],
   "source": [
    "print(x_train_feature)"
   ]
  },
  {
   "cell_type": "code",
   "execution_count": 34,
   "id": "cf14f044",
   "metadata": {},
   "outputs": [],
   "source": [
    "model = LogisticRegression()\n",
    "model2 = DecisionTreeClassifier()\n",
    "model3 = RandomForestClassifier()\n",
    "model4 = MultinomialNB()"
   ]
  },
  {
   "cell_type": "code",
   "execution_count": 35,
   "id": "32da7cd1",
   "metadata": {},
   "outputs": [
    {
     "data": {
      "text/plain": [
       "MultinomialNB()"
      ]
     },
     "execution_count": 35,
     "metadata": {},
     "output_type": "execute_result"
    }
   ],
   "source": [
    "model.fit(x_train_feature,y_train)\n",
    "model2.fit(x_train_feature,y_train)\n",
    "model3.fit(x_train_feature,y_train)\n",
    "model4.fit(x_train_feature,y_train)"
   ]
  },
  {
   "cell_type": "code",
   "execution_count": 36,
   "id": "13f343d6",
   "metadata": {},
   "outputs": [],
   "source": [
    "y_pred = model.predict(x_train_feature)\n",
    "y_pred2 = model2.predict(x_train_feature)\n",
    "y_pred3 = model3.predict(x_train_feature)\n",
    "y_pred4 = model4.predict(x_train_feature)"
   ]
  },
  {
   "cell_type": "code",
   "execution_count": 37,
   "id": "233271f1",
   "metadata": {},
   "outputs": [],
   "source": [
    "acc = accuracy_score(y_pred,y_train)\n",
    "pec = precision_score(y_pred4,y_train)\n",
    "acc2 = accuracy_score(y_pred2,y_train)\n",
    "acc3 = accuracy_score(y_pred3,y_train)\n",
    "acc4 = accuracy_score(y_pred4,y_train)"
   ]
  },
  {
   "cell_type": "code",
   "execution_count": 38,
   "id": "bed2743e",
   "metadata": {},
   "outputs": [
    {
     "name": "stdout",
     "output_type": "stream",
     "text": [
      "Accuracy of training data is: 96.81400044873233\n",
      "Precision  100.0\n",
      "Accuracy: 100.0\n",
      "Accuracy: 100.0\n",
      "98.36212699124972\n"
     ]
    }
   ],
   "source": [
    "print(\"Accuracy of training data is:\",acc*100)\n",
    "print(\"Precision \",pec*100)\n",
    "print(\"Accuracy:\",acc2*100)\n",
    "print(\"Accuracy:\",acc3*100)\n",
    "print(acc4*100)"
   ]
  },
  {
   "cell_type": "code",
   "execution_count": 45,
   "id": "f0e1e63b",
   "metadata": {},
   "outputs": [
    {
     "name": "stdout",
     "output_type": "stream",
     "text": [
      "Accuracy of test data is: 97.13004484304932\n",
      "Accuracy of test data is: 96.7713004484305\n",
      "Accuracy of test data is: 97.9372197309417\n",
      "Accuracy of test data is: 96.95067264573991\n",
      "100.0\n"
     ]
    }
   ],
   "source": [
    "y_pred_test = model.predict(x_test_feature)\n",
    "y_pred_test2 = model2.predict(x_test_feature)\n",
    "y_pred_test3 = model3.predict(x_test_feature)\n",
    "y_pred_test4 = model4.predict(x_test_feature)\n",
    "accuracy = accuracy_score(y_pred_test,y_test)\n",
    "accuracy2 = accuracy_score(y_pred_test2,y_test)\n",
    "accuracy3 = accuracy_score(y_pred_test3,y_test)\n",
    "accuracy4 = accuracy_score(y_pred_test4,y_test)\n",
    "pr_Score = precision_score(y_pred_test4,y_test)\n",
    "\n",
    "print(\"Accuracy of test data is:\",accuracy*100)\n",
    "print(\"Accuracy of test data is:\",accuracy2*100)\n",
    "print(\"Accuracy of test data is:\",accuracy3*100)\n",
    "print(\"Accuracy of test data is:\",accuracy4*100)\n",
    "print(pr_Score*100)"
   ]
  },
  {
   "cell_type": "markdown",
   "id": "749023e9",
   "metadata": {},
   "source": [
    "Predictive System"
   ]
  },
  {
   "cell_type": "code",
   "execution_count": 46,
   "id": "1e932cf2",
   "metadata": {},
   "outputs": [
    {
     "name": "stdout",
     "output_type": "stream",
     "text": [
      "[0]\n",
      "Not Spam\n"
     ]
    }
   ],
   "source": [
    "mail = [\"Had your mobile 11 months or more? U R entitled to Update to the latest colour mobiles with camera for Free! Call The Mobile Update Co FREE on 08002986030\"]\n",
    "input_data = feature_extraction.transform(mail)\n",
    "\n",
    "prediction = model.predict(input_data)\n",
    "print(prediction)\n",
    "\n",
    "if prediction[0]==1:\n",
    "    print(\"Spam\")\n",
    "else:\n",
    "    print(\"Not Spam\")"
   ]
  },
  {
   "cell_type": "code",
   "execution_count": 48,
   "id": "23721128",
   "metadata": {},
   "outputs": [],
   "source": [
    "c = confusion_matrix(y_pred_test4,y_test)"
   ]
  },
  {
   "cell_type": "code",
   "execution_count": 49,
   "id": "0c5b15ae",
   "metadata": {},
   "outputs": [
    {
     "data": {
      "text/plain": [
       "<AxesSubplot:>"
      ]
     },
     "execution_count": 49,
     "metadata": {},
     "output_type": "execute_result"
    },
    {
     "data": {
      "image/png": "[encoded data removed]",
      "text/plain": [
       "<Figure size 432x288 with 2 Axes>"
      ]
     },
     "metadata": {
      "needs_background": "light"
     },
     "output_type": "display_data"
    }
   ],
   "source": [
    "sns.heatmap(c,annot=True,annot_kws={'size':10})"
   ]
  },
  {
   "cell_type": "code",
   "execution_count": 50,
   "id": "53e878aa",
   "metadata": {},
   "outputs": [],
   "source": [
    "cr = classification_report(y_pred_test,y_test)"
   ]
  },
  {
   "cell_type": "code",
   "execution_count": 51,
   "id": "9f0cbd11",
   "metadata": {},
   "outputs": [
    {
     "name": "stdout",
     "output_type": "stream",
     "text": [
      "              precision    recall  f1-score   support\n",
      "\n",
      "           0       0.78      0.99      0.88       113\n",
      "           1       1.00      0.97      0.98      1002\n",
      "\n",
      "    accuracy                           0.97      1115\n",
      "   macro avg       0.89      0.98      0.93      1115\n",
      "weighted avg       0.98      0.97      0.97      1115\n",
      "\n"
     ]
    }
   ],
   "source": [
    "print(cr)"
   ]
  },
  {
   "cell_type": "code",
   "execution_count": null,
   "id": "36c0d45c",
   "metadata": {},
   "outputs": [],
   "source": []
  }
 ],
 "metadata": {
  "kernelspec": {
   "display_name": "Python 3 (ipykernel)",
   "language": "python",
   "name": "python3"
  },
  "language_info": {
   "codemirror_mode": {
    "name": "ipython",
    "version": 3
   },
   "file_extension": ".py",
   "mimetype": "text/x-python",
   "name": "python",
   "nbconvert_exporter": "python",
   "pygments_lexer": "ipython3",
   "version": "3.9.12"
  }
 },
 "nbformat": 4,
 "nbformat_minor": 5
}
